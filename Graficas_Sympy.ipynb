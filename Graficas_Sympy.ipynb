{
  "cells": [
    {
      "cell_type": "markdown",
      "source": [
        " LIBRERÍA SYMPY\n",
        "\n"
      ],
      "metadata": {
        "id": "GSHxc0yAy0ON"
      },
      "id": "GSHxc0yAy0ON"
    },
    {
      "cell_type": "code",
      "execution_count": 1,
      "id": "ea3c7cca",
      "metadata": {
        "id": "ea3c7cca"
      },
      "outputs": [],
      "source": [
        "from sympy import *"
      ]
    },
    {
      "cell_type": "markdown",
      "source": [
        "Es una librería es una librería que nos permite realizar calculos matemáticos. Es útil para diversas áreas matemáticas como: la resolución de matrices y determinantes, en ecuaciones diferenciales, derivadas parciales, asi como para transformar código de látex, tambien favorece en la resolucion de derivadas e integrales y en la solucion de diversas series, como las de Fourier.\n"
      ],
      "metadata": {
        "id": "nPMlO4zrqgbI"
      },
      "id": "nPMlO4zrqgbI"
    },
    {
      "cell_type": "code",
      "execution_count": 2,
      "id": "9a809e15",
      "metadata": {
        "id": "9a809e15"
      },
      "outputs": [],
      "source": [
        "x=symbols('x')\n"
      ]
    },
    {
      "cell_type": "markdown",
      "source": [
        "$\\uparrow$ \\\\\n",
        "Nos sirve para poder definir símbolos y/o variables, en este caso estamos creando la variable x, usando la función sympy.\n"
      ],
      "metadata": {
        "id": "P0WokDVcsxvV"
      },
      "id": "P0WokDVcsxvV"
    },
    {
      "cell_type": "code",
      "source": [
        "x**2+5\n",
        "\n"
      ],
      "metadata": {
        "id": "6Vcu3ITHq-yH",
        "outputId": "4543d0c9-c663-4536-ed19-20d508350aad",
        "colab": {
          "base_uri": "https://localhost:8080/",
          "height": 38
        }
      },
      "id": "6Vcu3ITHq-yH",
      "execution_count": 3,
      "outputs": [
        {
          "output_type": "execute_result",
          "data": {
            "text/plain": [
              "x**2 + 5"
            ],
            "text/latex": "$\\displaystyle x^{2} + 5$"
          },
          "metadata": {},
          "execution_count": 3
        }
      ]
    },
    {
      "cell_type": "markdown",
      "source": [
        "$\\uparrow$ \\\\\n",
        "Un ejemplo más de la utilización de la función sympy, en este caso para poder transformar y/o manipular código en látex de una manera más sencilla."
      ],
      "metadata": {
        "id": "y20zGbNcq39f"
      },
      "id": "y20zGbNcq39f"
    },
    {
      "cell_type": "code",
      "execution_count": 4,
      "id": "f013e8e4",
      "metadata": {
        "id": "f013e8e4",
        "outputId": "6358e2b8-7e62-4e42-bc2c-04578e2cefa1",
        "colab": {
          "base_uri": "https://localhost:8080/",
          "height": 484
        }
      },
      "outputs": [
        {
          "output_type": "display_data",
          "data": {
            "text/plain": [
              "<Figure size 640x480 with 1 Axes>"
            ],
            "image/png": "[encoded data removed]"
          },
          "metadata": {}
        }
      ],
      "source": [
        "c1=plotting.plot(x*x) #con esta celda traza la gáfica"
      ]
    },
    {
      "cell_type": "markdown",
      "source": [
        "$\\uparrow$ \\\\\n",
        "En está línea de código nos indica que se está graficando la función $x^2$ usando la función plot, la cual esta contenida dentro del paquete sympy dónde matploit se encuentra implicitamente, dado que ya no es necesario definirla.\n",
        "Cabe resaltar que dicha gráfica esta contenida dentro de la variable $c_1$"
      ],
      "metadata": {
        "id": "aUDudhrGurQf"
      },
      "id": "aUDudhrGurQf"
    },
    {
      "cell_type": "code",
      "execution_count": 7,
      "id": "681a546b",
      "metadata": {
        "id": "681a546b"
      },
      "outputs": [],
      "source": [
        "cl=plotting.plot(x*x,show=False)\n",
        "c2=plotting.plot(x**3,show=False)"
      ]
    },
    {
      "cell_type": "markdown",
      "source": [
        "$\\uparrow$ \\\\\n",
        "Cuando usamos show=false, impide que la gráfica se muestre inmediatamente, lo cual necesitaremos otro método para poder visualizarla."
      ],
      "metadata": {
        "id": "zOLu8h-k0HDM"
      },
      "id": "zOLu8h-k0HDM"
    },
    {
      "cell_type": "code",
      "execution_count": 9,
      "id": "826d2156",
      "metadata": {
        "id": "826d2156",
        "outputId": "1499636d-a2f0-49c8-e338-c54d9cb453a7",
        "colab": {
          "base_uri": "https://localhost:8080/"
        }
      },
      "outputs": [
        {
          "output_type": "execute_result",
          "data": {
            "text/plain": [
              "<sympy.plotting.backends.matplotlibbackend.matplotlib.MatplotlibBackend at 0x7e0cd7f33b50>"
            ]
          },
          "metadata": {},
          "execution_count": 9
        }
      ],
      "source": [
        "c1 #Indica qué es y en qué espacio de memoria está"
      ]
    },
    {
      "cell_type": "code",
      "execution_count": 11,
      "id": "c52a5b46",
      "metadata": {
        "id": "c52a5b46"
      },
      "outputs": [],
      "source": [
        "c1.append(c2[0]) #Anida las gráficas sin los ejes"
      ]
    },
    {
      "cell_type": "code",
      "execution_count": 12,
      "id": "f23f0783",
      "metadata": {
        "id": "f23f0783",
        "outputId": "b0321993-3890-42c7-c648-2b0690848219",
        "colab": {
          "base_uri": "https://localhost:8080/"
        }
      },
      "outputs": [
        {
          "output_type": "execute_result",
          "data": {
            "text/plain": [
              "<sympy.plotting.backends.matplotlibbackend.matplotlib.MatplotlibBackend at 0x7e0cd7f33b50>"
            ]
          },
          "metadata": {},
          "execution_count": 12
        }
      ],
      "source": [
        "c1"
      ]
    },
    {
      "cell_type": "code",
      "execution_count": 13,
      "id": "c13d8b05",
      "metadata": {
        "id": "c13d8b05",
        "outputId": "129abe3f-2de7-410b-d88f-e19bd3abda26",
        "colab": {
          "base_uri": "https://localhost:8080/",
          "height": 487
        }
      },
      "outputs": [
        {
          "output_type": "display_data",
          "data": {
            "text/plain": [
              "<Figure size 640x480 with 1 Axes>"
            ],
            "image/png": "[encoded data removed]"
          },
          "metadata": {}
        }
      ],
      "source": [
        "c1.show()"
      ]
    },
    {
      "cell_type": "markdown",
      "source": [
        "$\\uparrow$ \\\\\n",
        "Cuando usamos c1.show() indicamos implicitamente que deseams imprimir la gráfica y/o visualizar la gráfica"
      ],
      "metadata": {
        "id": "cXP4YtWV1BCc"
      },
      "id": "cXP4YtWV1BCc"
    },
    {
      "cell_type": "code",
      "execution_count": 15,
      "id": "135bfd2d",
      "metadata": {
        "id": "135bfd2d"
      },
      "outputs": [],
      "source": [
        "c1.extend(c2)"
      ]
    },
    {
      "cell_type": "markdown",
      "source": [
        "$\\uparrow$ \\\\\n",
        "Indica que la gráfica c1 asi como la c2 se mostraran dentro de una misma gráfica, por lo que c1.extend(c2) agrega el contenido de c2 a c1, de tal forma que ahora c1 contiene ambas gráficas."
      ],
      "metadata": {
        "id": "ytB_kf-G1mv8"
      },
      "id": "ytB_kf-G1mv8"
    },
    {
      "cell_type": "code",
      "execution_count": 16,
      "id": "56418d41",
      "metadata": {
        "id": "56418d41",
        "outputId": "bbec10e3-7bac-4d73-c546-c844d14823fa",
        "colab": {
          "base_uri": "https://localhost:8080/",
          "height": 487
        }
      },
      "outputs": [
        {
          "output_type": "display_data",
          "data": {
            "text/plain": [
              "<Figure size 640x480 with 1 Axes>"
            ],
            "image/png": "[encoded data removed]"
          },
          "metadata": {}
        }
      ],
      "source": [
        "c1.show()"
      ]
    },
    {
      "cell_type": "markdown",
      "source": [
        "$\\uparrow$ \\\\\n",
        "Nos ayuda a visualizar la nueva gráfica c1."
      ],
      "metadata": {
        "id": "0guVD5n02Cq2"
      },
      "id": "0guVD5n02Cq2"
    },
    {
      "cell_type": "code",
      "execution_count": 17,
      "id": "3a25a53b",
      "metadata": {
        "id": "3a25a53b",
        "outputId": "843ae61d-bb17-410b-a870-d40f2bc6e13b",
        "colab": {
          "base_uri": "https://localhost:8080/",
          "height": 487
        }
      },
      "outputs": [
        {
          "output_type": "display_data",
          "data": {
            "text/plain": [
              "<Figure size 640x480 with 1 Axes>"
            ],
            "image/png": "[encoded data removed]"
          },
          "metadata": {}
        }
      ],
      "source": [
        "c2.show()"
      ]
    },
    {
      "cell_type": "markdown",
      "source": [
        "$\\uparrow$ \\\\\n",
        "Podemos visualizar la gráfica de c2, la cual aun no ha sido alterada, por lo que unicamente bastara con utilizar c2.show()"
      ],
      "metadata": {
        "id": "UKPxRN9C2clE"
      },
      "id": "UKPxRN9C2clE"
    },
    {
      "cell_type": "code",
      "execution_count": 18,
      "id": "ad2995f2",
      "metadata": {
        "id": "ad2995f2"
      },
      "outputs": [],
      "source": [
        "from sympy.plotting import plot"
      ]
    },
    {
      "cell_type": "code",
      "execution_count": null,
      "id": "4d9c7160",
      "metadata": {
        "id": "4d9c7160"
      },
      "outputs": [],
      "source": [
        "plot(x**2)"
      ]
    },
    {
      "cell_type": "code",
      "execution_count": null,
      "id": "cac91b1d",
      "metadata": {
        "id": "cac91b1d"
      },
      "outputs": [],
      "source": [
        "plot(x**2,(x,-1,1))"
      ]
    },
    {
      "cell_type": "code",
      "execution_count": null,
      "id": "12aaf4ee",
      "metadata": {
        "id": "12aaf4ee"
      },
      "outputs": [],
      "source": [
        "plot(exp(x))\n",
        "#plot(exp(x),(x,0,2))"
      ]
    },
    {
      "cell_type": "code",
      "execution_count": null,
      "id": "a679a5ba",
      "metadata": {
        "id": "a679a5ba"
      },
      "outputs": [],
      "source": [
        "plot(x,x**2,x**3, (x,-2,2))"
      ]
    },
    {
      "cell_type": "code",
      "execution_count": null,
      "id": "b2425f84",
      "metadata": {
        "id": "b2425f84"
      },
      "outputs": [],
      "source": [
        "plot(x**2,adaptative=False,nb_of_points=10) #Revisar"
      ]
    },
    {
      "cell_type": "markdown",
      "id": "9ce41f8e",
      "metadata": {
        "id": "9ce41f8e"
      },
      "source": [
        "### Curvas parametrizadas"
      ]
    },
    {
      "cell_type": "code",
      "execution_count": null,
      "id": "9dcc8951",
      "metadata": {
        "id": "9dcc8951"
      },
      "outputs": [],
      "source": [
        "from sympy import plot_parametric"
      ]
    },
    {
      "cell_type": "code",
      "execution_count": null,
      "id": "a75bd4c7",
      "metadata": {
        "id": "a75bd4c7"
      },
      "outputs": [],
      "source": [
        "s=symbols('s')"
      ]
    },
    {
      "cell_type": "code",
      "execution_count": null,
      "id": "b1b1f0c8",
      "metadata": {
        "id": "b1b1f0c8"
      },
      "outputs": [],
      "source": [
        "plot_parametric((cos(s)),sin(s))"
      ]
    },
    {
      "cell_type": "code",
      "execution_count": null,
      "id": "5ab8a4f0",
      "metadata": {
        "id": "5ab8a4f0"
      },
      "outputs": [],
      "source": [
        "plot_parametric((cos(s),sin(s)),(s,s**2),(s,-4,4))"
      ]
    },
    {
      "cell_type": "code",
      "execution_count": null,
      "id": "aa955b9e",
      "metadata": {
        "id": "aa955b9e"
      },
      "outputs": [],
      "source": [
        "c2[0].line_color='green'"
      ]
    },
    {
      "cell_type": "code",
      "execution_count": null,
      "id": "be06e1b1",
      "metadata": {
        "id": "be06e1b1"
      },
      "outputs": [],
      "source": [
        "c2.show()"
      ]
    },
    {
      "cell_type": "markdown",
      "id": "cca07cb7",
      "metadata": {
        "id": "cca07cb7"
      },
      "source": [
        "### Graficas 3D"
      ]
    },
    {
      "cell_type": "code",
      "execution_count": null,
      "id": "af558339",
      "metadata": {
        "id": "af558339"
      },
      "outputs": [],
      "source": [
        "from sympy.plotting import plot3d"
      ]
    },
    {
      "cell_type": "code",
      "execution_count": null,
      "id": "b8c4346f",
      "metadata": {
        "id": "b8c4346f"
      },
      "outputs": [],
      "source": [
        "x,y=symbols('x y')"
      ]
    },
    {
      "cell_type": "code",
      "execution_count": null,
      "id": "7bf8b47c",
      "metadata": {
        "id": "7bf8b47c"
      },
      "outputs": [],
      "source": [
        "plot3d(x*y)"
      ]
    },
    {
      "cell_type": "code",
      "execution_count": null,
      "id": "26b09e08",
      "metadata": {
        "id": "26b09e08"
      },
      "outputs": [],
      "source": [
        "plot3d(x*y, (x,-5,5),(y,-5,5))"
      ]
    },
    {
      "cell_type": "code",
      "execution_count": null,
      "id": "1bd8303d",
      "metadata": {
        "id": "1bd8303d"
      },
      "outputs": [],
      "source": [
        "plot3d(x*y, -x*y, (x,-5,5),(y,-5,5))"
      ]
    },
    {
      "cell_type": "code",
      "execution_count": null,
      "id": "bc48dc4f",
      "metadata": {
        "id": "bc48dc4f"
      },
      "outputs": [],
      "source": [
        "plot3d((x**2 + y**2, (x,-5,5),(y,-5,5)),(x*y,(x,-3,3),(y,-3,3)))"
      ]
    },
    {
      "cell_type": "code",
      "execution_count": null,
      "id": "6cdd3777",
      "metadata": {
        "id": "6cdd3777"
      },
      "outputs": [],
      "source": [
        "from sympy.plotting import plot3d_parametric_line"
      ]
    },
    {
      "cell_type": "code",
      "execution_count": null,
      "id": "e57589a8",
      "metadata": {
        "id": "e57589a8"
      },
      "outputs": [],
      "source": [
        "plot3d_parametric_line(cos(s),sin(s),s)"
      ]
    },
    {
      "cell_type": "code",
      "execution_count": null,
      "id": "b182c4af",
      "metadata": {
        "id": "b182c4af"
      },
      "outputs": [],
      "source": [
        "plot3d_parametric_line((cos(s),sin(s),s,(s,-5,5)),(sin(s),s**2,s,(s,-5,5)))"
      ]
    },
    {
      "cell_type": "code",
      "execution_count": null,
      "id": "31185692",
      "metadata": {
        "id": "31185692"
      },
      "outputs": [],
      "source": [
        "from sympy.plotting import plot3d_parametric_surface"
      ]
    },
    {
      "cell_type": "code",
      "execution_count": null,
      "id": "22e2c1c2",
      "metadata": {
        "id": "22e2c1c2"
      },
      "outputs": [],
      "source": [
        "u, v =symbols('u v')"
      ]
    },
    {
      "cell_type": "code",
      "execution_count": null,
      "id": "c96ce23a",
      "metadata": {
        "id": "c96ce23a"
      },
      "outputs": [],
      "source": [
        "plot3d_parametric_surface(cos(u+v),sin(u-v),u-v)"
      ]
    },
    {
      "cell_type": "code",
      "execution_count": null,
      "id": "406abc70",
      "metadata": {
        "id": "406abc70"
      },
      "outputs": [],
      "source": [
        "plot3d_parametric_surface(cos(v)*cos(u),cos(v)*sin(u),sin(v))"
      ]
    },
    {
      "cell_type": "markdown",
      "id": "4203d6ad",
      "metadata": {
        "id": "4203d6ad"
      },
      "source": [
        "Funciones implícitas"
      ]
    },
    {
      "cell_type": "code",
      "execution_count": null,
      "id": "dfccc5e3",
      "metadata": {
        "id": "dfccc5e3"
      },
      "outputs": [],
      "source": [
        "from sympy import plot_implicit, symbols, Eq, And"
      ]
    },
    {
      "cell_type": "code",
      "execution_count": null,
      "id": "c0d7f8b3",
      "metadata": {
        "id": "c0d7f8b3"
      },
      "outputs": [],
      "source": [
        "x, y = symbols(' x y')"
      ]
    },
    {
      "cell_type": "code",
      "execution_count": null,
      "id": "d9cfb450",
      "metadata": {
        "id": "d9cfb450"
      },
      "outputs": [],
      "source": [
        "p1 = plot_implicit(Eq(x**2 + y**2, 5))"
      ]
    },
    {
      "cell_type": "code",
      "execution_count": null,
      "id": "da52c476",
      "metadata": {
        "id": "da52c476"
      },
      "outputs": [],
      "source": [
        "p6 = plot_implicit(y > x**2)"
      ]
    },
    {
      "cell_type": "code",
      "execution_count": null,
      "id": "a819d003",
      "metadata": {
        "id": "a819d003"
      },
      "outputs": [],
      "source": [
        "p6 = plot_implicit(And(y > x, y > -x))"
      ]
    },
    {
      "cell_type": "code",
      "execution_count": null,
      "id": "45fd20a5",
      "metadata": {
        "id": "45fd20a5"
      },
      "outputs": [],
      "source": []
    }
  ],
  "metadata": {
    "kernelspec": {
      "display_name": "Python 3 (ipykernel)",
      "language": "python",
      "name": "python3"
    },
    "language_info": {
      "codemirror_mode": {
        "name": "ipython",
        "version": 3
      },
      "file_extension": ".py",
      "mimetype": "text/x-python",
      "name": "python",
      "nbconvert_exporter": "python",
      "pygments_lexer": "ipython3",
      "version": "3.7.3"
    },
    "colab": {
      "provenance": []
    }
  },
  "nbformat": 4,
  "nbformat_minor": 5
}
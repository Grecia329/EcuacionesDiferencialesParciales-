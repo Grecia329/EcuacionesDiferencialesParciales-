{
  "nbformat": 4,
  "nbformat_minor": 0,
  "metadata": {
    "colab": {
      "provenance": [],
      "authorship_tag": "ABX9TyOAGpTzTrVP8rIk5TCJLNc+",
      "include_colab_link": true
    },
    "kernelspec": {
      "name": "python3",
      "display_name": "Python 3"
    },
    "language_info": {
      "name": "python"
    }
  },
  "cells": [
    {
      "cell_type": "markdown",
      "metadata": {
        "id": "view-in-github",
        "colab_type": "text"
      },
      "source": [
        "<a href=\"https://colab.research.google.com/github/Grecia329/EcuacionesDiferencialesParciales-/blob/main/SERIE_GENERALIZADA_DE_FOURIER.ipynb\" target=\"_parent\"><img src=\"https://colab.research.google.com/assets/colab-badge.svg\" alt=\"Open In Colab\"/></a>"
      ]
    },
    {
      "cell_type": "markdown",
      "source": [
        "## <span style=\"color:orange;\"> *Ejercicio:*</span>\n",
        "* Verifcar que el siguiente es un problema de Sturm-Lioouville\n",
        "\n",
        " $\\quad f''(x)+2f'(x)+𝛌(x)=0 \\quad 0<x<1$\n",
        "con\n",
        "$\\quad f(0)=0 \\quad$\n",
        "$\\quad f(1)=0$\n",
        "\n",
        "* Usar las eigenfunciones de este problema para expandir en series de Fourier generalizdas la función:\n",
        "\n",
        "$u(x)= e^{-x}, \\quad 0\\le x\\le 1$\n"
      ],
      "metadata": {
        "id": "wGiRe-dkVDE8"
      }
    },
    {
      "cell_type": "markdown",
      "source": [
        "##<span style=\"color:pink;\">Parte a) verifcar que el siguiente es un problema de Sturm-Lioouville</span>\n",
        "\n",
        "$f''+2f'+𝛌f=0$\n",
        "\n",
        "\n",
        "**Ecuación diferencial:**\n",
        "$\n",
        "f''(x) + 2f'(x) + \\lambda f(x) = 0, \\quad 0 < x < 1\n",
        "$\n",
        "\n",
        "**Condiciones de frontera:**\n",
        "$\n",
        "f(0) = 0, \\quad f(1) = 0\n",
        "$\n",
        "\n",
        "**Forma de Sturm-Liouville:**\n",
        "$\n",
        "\\frac{d}{dx}\\left[e^{2x}f'(x)\\right] + \\lambda e^{2x}f(x) = 0\n",
        "$\n",
        "\n",
        "**Solución general:**\n",
        "$\n",
        "f(x) = e^{-x}\\left[A\\cos(\\sqrt{\\lambda-1}x) + B\\sin(\\sqrt{\\lambda-1}x)\\right]\n",
        "$\n",
        "\n",
        "**Autovalores:**\n",
        "$\n",
        "\\lambda_n = n^2\\pi^2 + 1, \\quad n=1,2,3,\\ldots\n",
        "$\n",
        "\n",
        "**Autofunciones:**\n",
        "$\n",
        "f_n(x) = e^{-x}\\sin(n\\pi x), \\quad n=1,2,3,\\ldots\n",
        "$"
      ],
      "metadata": {
        "id": "IjFItHpnVI2D"
      }
    },
    {
      "cell_type": "markdown",
      "source": [
        "##<span style=\"color:pink;\">Parte b)  Usar las eigenfunciones de este problema para expandir en series de Fourier generalizdas la función:</span>\n",
        "\n",
        "**Función a expandir:**\n",
        "$\n",
        "u(x) = e^{-x}, \\quad 0 \\leq x \\leq 1\n",
        "$\n",
        "\n",
        "**Expansión en autofunciones:**\n",
        "$\n",
        "e^{-x} = \\sum_{n=1}^{\\infty} c_n e^{-x}\\sin(n\\pi x)\n",
        "$\n",
        "\n",
        "**Coeficientes de Fourier:**\n",
        "$\n",
        "c_n = \\frac{2[1 - (-1)^n]}{n\\pi}\n",
        "$\n"
      ],
      "metadata": {
        "id": "oHnKKaEUVM9z"
      }
    },
    {
      "cell_type": "code",
      "execution_count": 47,
      "metadata": {
        "id": "kSiTN4otRGdY"
      },
      "outputs": [],
      "source": [
        "import sympy as sp\n",
        "import numpy as np\n",
        "import matplotlib.pyplot as plt"
      ]
    },
    {
      "cell_type": "code",
      "source": [
        "# Variable simbólica\n",
        "x = sp.Symbol('x')"
      ],
      "metadata": {
        "id": "NAClNaJlRKqd"
      },
      "execution_count": 48,
      "outputs": []
    },
    {
      "cell_type": "code",
      "source": [
        "# Generamos zeta_n = n * pi, hasta n = 20\n",
        "n_vals = list(range(1, 19))\n",
        "zeta_vals = [n * sp.pi for n in n_vals]"
      ],
      "metadata": {
        "id": "3t7PyZ5KRNj0"
      },
      "execution_count": 49,
      "outputs": []
    },
    {
      "cell_type": "code",
      "source": [
        "# Función u(x) a aproximar\n",
        "u = sp.exp(-x)\n"
      ],
      "metadata": {
        "id": "9IdTE2awRPcd"
      },
      "execution_count": 50,
      "outputs": []
    },
    {
      "cell_type": "code",
      "source": [
        "# Coeficientes C_n\n",
        "C_n_vals = []"
      ],
      "metadata": {
        "id": "Qch5kUgkRVHE"
      },
      "execution_count": 51,
      "outputs": []
    },
    {
      "cell_type": "code",
      "source": [
        "for n, zeta_n in zip(n_vals, zeta_vals):\n",
        "    if n % 2 == 0:\n",
        "        C_n = 0\n",
        "    else:\n",
        "        C_n = 4 / (n * sp.pi)\n",
        "    C_n_vals.append(C_n)"
      ],
      "metadata": {
        "id": "lzV2Se57RW58"
      },
      "execution_count": 52,
      "outputs": []
    },
    {
      "cell_type": "code",
      "source": [
        "# Serie aproximada\n",
        "u_aprox = sum(C * sp.exp(-x) * sp.sin(zeta * x) for C, zeta in zip(C_n_vals, zeta_vals))"
      ],
      "metadata": {
        "id": "hf1a0q4jRbjc"
      },
      "execution_count": 53,
      "outputs": []
    },
    {
      "cell_type": "code",
      "source": [
        "# Mostrar la serie en forma simbólica\n",
        "print(\"Serie aproximada u_aprox(x):\")\n",
        "sp.pprint(sp.simplify(u_aprox))\n"
      ],
      "metadata": {
        "colab": {
          "base_uri": "https://localhost:8080/"
        },
        "id": "uFIIO8TYRgYk",
        "outputId": "2bc57d14-0e36-4022-d465-5ec2a4c88e37"
      },
      "execution_count": 54,
      "outputs": [
        {
          "output_type": "stream",
          "name": "stdout",
          "text": [
            "Serie aproximada u_aprox(x):\n",
            "                                                                               ↪\n",
            "4⋅(765765⋅sin(π⋅x) + 255255⋅sin(3⋅π⋅x) + 153153⋅sin(5⋅π⋅x) + 109395⋅sin(7⋅π⋅x) ↪\n",
            "────────────────────────────────────────────────────────────────────────────── ↪\n",
            "                                                                               ↪\n",
            "\n",
            "↪                                                                              ↪\n",
            "↪  + 85085⋅sin(9⋅π⋅x) + 69615⋅sin(11⋅π⋅x) + 58905⋅sin(13⋅π⋅x) + 51051⋅sin(15⋅π ↪\n",
            "↪ ──────────────────────────────────────────────────────────────────────────── ↪\n",
            "↪          765765⋅π                                                            ↪\n",
            "\n",
            "↪                           -x\n",
            "↪ ⋅x) + 45045⋅sin(17⋅π⋅x))⋅ℯ  \n",
            "↪ ────────────────────────────\n",
            "↪                             \n"
          ]
        }
      ]
    },
    {
      "cell_type": "code",
      "source": [
        "# Convertimos a funciones numéricas para graficar\n",
        "u_func = sp.lambdify(x, u, \"numpy\")\n",
        "u_aprox_func = sp.lambdify(x, u_aprox, \"numpy\")\n"
      ],
      "metadata": {
        "id": "N2ml3uryRiR0"
      },
      "execution_count": 42,
      "outputs": []
    },
    {
      "cell_type": "code",
      "source": [
        "# Evaluamos en puntos\n",
        "x_vals = np.linspace(0, 1, 300)\n",
        "y_real = u_func(x_vals)\n",
        "y_aprox = u_aprox_func(x_vals)"
      ],
      "metadata": {
        "id": "gPdtYw3lRkDc"
      },
      "execution_count": 43,
      "outputs": []
    },
    {
      "cell_type": "code",
      "source": [
        "# Graficamos\n",
        "plt.plot(x_vals, y_real, label=\"u(x) = e^{-x}\", linewidth=2)\n",
        "plt.plot(x_vals, y_aprox, label=\"Aproximación Fourier\", linestyle='--')\n",
        "plt.title(\"Aproximación de u(x) con Serie de Fourier Generalizada\")\n",
        "plt.xlabel(\"x\")\n",
        "plt.ylabel(\"u(x)\")\n",
        "plt.legend()\n",
        "plt.grid(True)\n",
        "plt.show()"
      ],
      "metadata": {
        "colab": {
          "base_uri": "https://localhost:8080/",
          "height": 472
        },
        "id": "AI5YFBJ3Rl3c",
        "outputId": "cf780dbd-8ff6-4e38-f872-5686fc8e1c0d"
      },
      "execution_count": 44,
      "outputs": [
        {
          "output_type": "display_data",
          "data": {
            "text/plain": [
              "<Figure size 640x480 with 1 Axes>"
            ],
            "image/png": "[encoded data removed]"
          },
          "metadata": {}
        }
      ]
    },
    {
      "cell_type": "code",
      "source": [
        "# Mostrar tabla de zeta y C_n\n",
        "for n, z, c in zip(n_vals, zeta_vals, C_n_vals):\n",
        "    print(f\"n = {n}, zeta_n = {sp.N(z, 19)}, C_n = {sp.N(c, 19)}\")"
      ],
      "metadata": {
        "colab": {
          "base_uri": "https://localhost:8080/"
        },
        "id": "W15R7mxeSeN0",
        "outputId": "18309932-eccb-4a8e-80ff-4d071817dad2"
      },
      "execution_count": 45,
      "outputs": [
        {
          "output_type": "stream",
          "name": "stdout",
          "text": [
            "n = 1, zeta_n = 3.141592653589793238, C_n = 1.273239544735162686\n",
            "n = 2, zeta_n = 6.283185307179586477, C_n = 0\n",
            "n = 3, zeta_n = 9.424777960769379715, C_n = 0.4244131815783875621\n",
            "n = 4, zeta_n = 12.56637061435917295, C_n = 0\n",
            "n = 5, zeta_n = 15.70796326794896619, C_n = 0.2546479089470325372\n",
            "n = 6, zeta_n = 18.84955592153875943, C_n = 0\n",
            "n = 7, zeta_n = 21.99114857512855267, C_n = 0.1818913635335946695\n",
            "n = 8, zeta_n = 25.13274122871834591, C_n = 0\n",
            "n = 9, zeta_n = 28.27433388230813915, C_n = 0.1414710605261291874\n",
            "n = 10, zeta_n = 31.41592653589793238, C_n = 0\n",
            "n = 11, zeta_n = 34.55751918948772562, C_n = 0.1157490495213784260\n",
            "n = 12, zeta_n = 37.69911184307751886, C_n = 0\n",
            "n = 13, zeta_n = 40.84070449666731210, C_n = 0.09794150344116636047\n",
            "n = 14, zeta_n = 43.98229715025710534, C_n = 0\n",
            "n = 15, zeta_n = 47.12388980384689858, C_n = 0.08488263631567751241\n",
            "n = 16, zeta_n = 50.26548245743669182, C_n = 0\n",
            "n = 17, zeta_n = 53.40707511102648505, C_n = 0.07489644380795074624\n",
            "n = 18, zeta_n = 56.54866776461627829, C_n = 0\n"
          ]
        }
      ]
    }
  ]
}
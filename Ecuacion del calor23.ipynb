{
  "cells": [
    {
      "cell_type": "markdown",
      "source": [
        "# Ecuación De Onda"
      ],
      "metadata": {
        "id": "QEMSBtNMPwKC"
      }
    },
    {
      "cell_type": "code",
      "source": [
        "from IPython.display import Latex"
      ],
      "metadata": {
        "id": "a24IdXwRSRlq"
      },
      "execution_count": 1,
      "outputs": []
    },
    {
      "cell_type": "markdown",
      "metadata": {
        "id": "vHpLyixBPqBu"
      },
      "source": [
        "La solución de la ecuación\n",
        "$$\\frac{\\partial^2 u}{\\partial t^2} = c^2\\frac{\\partial^2 u}{\\partial x^2}$$\n",
        "$$\n",
        "0≤x≤1=L\n",
        "$$\n",
        "sujeta a las condiciones de frontera:\n",
        "$$f(0)=0 \\quad f(1)=0$$\n",
        "Y la condición inicial:\n",
        "$$\\frac{\\partial u(x,0)}{\\partial t} = 0 \\quad Con \\quad c=1$$\n",
        "$$\n",
        "u(x,0)=f(x)=\n",
        "$$\n",
        "Esta dada en términos de la serie de Fourier por la expresión:\n",
        "$$u(x,t)=\\frac{2}{\\pi}\\sum_{n=1}^{\\infty} \\frac{(-1)^{n+1}}{n}  \\sin(n\\pi x)e^{-(n\\pi)^2 t}.$$"
      ]
    },
    {
      "cell_type": "markdown",
      "metadata": {
        "id": "6CBmar38PqBv"
      },
      "source": [
        "Este problema modela la transferencia de calor en una barra ideal delgada, con $k=1$."
      ]
    },
    {
      "cell_type": "code",
      "execution_count": null,
      "metadata": {
        "id": "2qTWXYMSPqBv"
      },
      "outputs": [],
      "source": [
        "from pylab import *"
      ]
    },
    {
      "cell_type": "markdown",
      "metadata": {
        "id": "6n-luKKfPqBw"
      },
      "source": [
        "Para empezar, graficamos la condición inicial."
      ]
    },
    {
      "cell_type": "code",
      "execution_count": null,
      "metadata": {
        "id": "MqOveIVMPqBw"
      },
      "outputs": [],
      "source": [
        "def recta(x):\n",
        "    y = zeros(len(x))\n",
        "    for i in range(len(x)):\n",
        "        y[i] = x[i]\n",
        "    return y"
      ]
    },
    {
      "cell_type": "code",
      "execution_count": null,
      "metadata": {
        "id": "eCog42FaPqBw"
      },
      "outputs": [],
      "source": [
        "x = linspace(0,1,1000)\n",
        "f = recta(x)\n",
        "plot(x,f,label='$u(x,0)=x$')\n",
        "plt.xlabel('$x$'); plt.ylabel('$f(x)$');\n",
        "plt.title(\"Condición inicial (u(x,0)=f(x))\")\n",
        "xlim([-0.01,1.01]),ylim([-0.01,1.01]),grid(),legend()\n",
        "show()"
      ]
    },
    {
      "cell_type": "markdown",
      "metadata": {
        "id": "2-cZEAjBPqBw"
      },
      "source": [
        "Usamos una serie de Fourier para aproximar la condición inicial $u(x,0)=f(x)=x$."
      ]
    },
    {
      "cell_type": "code",
      "execution_count": null,
      "metadata": {
        "id": "MgLfEzUUPqBx"
      },
      "outputs": [],
      "source": [
        "def u_0(x,N=20): # N es el número de armónicos\n",
        "    f = zeros(len(x))\n",
        "    for n in range(1,N):\n",
        "        f += (-1)**(n+1)*sin(n*pi*x)/(n)\n",
        "    return (2.0/pi)*f"
      ]
    },
    {
      "cell_type": "code",
      "execution_count": null,
      "metadata": {
        "id": "wMd7tZCtPqBx"
      },
      "outputs": [],
      "source": [
        "f_n = u_0(x)\n",
        "plot(x,f_n,label='$f_N(x)$ con $N=20$')\n",
        "plot(x,f,label='$f(x)=x$')\n",
        "plt.xlabel('$x$'); plt.ylabel('$f(x)$');\n",
        "plt.title(\"Aproximación de la condición inicial\")\n",
        "xlim([-0.01,1.1]),ylim([-0.01,1.2]),grid(),legend()\n",
        "show()"
      ]
    },
    {
      "cell_type": "markdown",
      "metadata": {
        "id": "ToRv1V9OPqBx"
      },
      "source": [
        "Podemos visualizar la aproximación para diferentes cantidades de armónicos."
      ]
    },
    {
      "cell_type": "code",
      "execution_count": null,
      "metadata": {
        "id": "YxegNeKwPqBx"
      },
      "outputs": [],
      "source": [
        "for i in range(1,20,5):\n",
        "    plot(x,u_0(x,i),label='$f_N(x)$ con $N=%d$' %i)\n",
        "plt.xlabel('$x$'); plt.ylabel('$f(x)$');\n",
        "plt.title(\"Aproximación de la condición inicial\")\n",
        "xlim([-0.01,1.01]),ylim([-0.01,1.2]),grid(),legend()\n",
        "show()"
      ]
    },
    {
      "cell_type": "markdown",
      "metadata": {
        "id": "_FpAGNYJPqBy"
      },
      "source": [
        "Ahora, agregamos la parte temporal para visualizar la solución completa. Primero, para el momento inicial, $t=0$."
      ]
    },
    {
      "cell_type": "code",
      "execution_count": null,
      "metadata": {
        "id": "yjq6NPawPqBy"
      },
      "outputs": [],
      "source": [
        "def u_x_t(x,t,N=50):\n",
        "    f = zeros( (len(x),len(t)) )\n",
        "    for i in range(len(t)):\n",
        "        for n in range(1,N):\n",
        "            f[:,i] += (-1)**(n+1)*sin(n*pi*x)/(n)*exp(-n**2*pi**2*t[i])\n",
        "    return (2.0/pi)*f"
      ]
    },
    {
      "cell_type": "code",
      "execution_count": null,
      "metadata": {
        "id": "WfET4XgOPqBy"
      },
      "outputs": [],
      "source": [
        "x = linspace(0,1,1000)\n",
        "t = linspace(0,10,1000)\n",
        "U = u_x_t(x,t)"
      ]
    },
    {
      "cell_type": "code",
      "execution_count": null,
      "metadata": {
        "id": "8_qTP-UyPqBy"
      },
      "outputs": [],
      "source": [
        "plot(x,U[:,0],label='$u(x,0)$')\n",
        "plt.xlabel('$x$'); plt.ylabel('$f(x)$');\n",
        "plt.title(\"Aproximación de la condición inicial\")\n",
        "xlim([-0.01,1.01]),ylim([-0.01,1.2]),grid(),legend()\n",
        "show()"
      ]
    },
    {
      "cell_type": "markdown",
      "metadata": {
        "id": "1kKP4JGuPqBy"
      },
      "source": [
        "Luego, para diferentes tiempos, lo cual nos permite ver cómo la solución evoluciona cuando $t \\to \\infty$."
      ]
    },
    {
      "cell_type": "code",
      "execution_count": null,
      "metadata": {
        "id": "Oq0o74dxPqBy"
      },
      "outputs": [],
      "source": [
        "plot(x,U[:,0],label='$u(x,t=0)$') # Mejorar\n",
        "plot(x,U[:,1],label='$u(x,t=1)$')\n",
        "plot(x,U[:,2],label='$u(x,t=2)$')\n",
        "plot(x,U[:,3],label='$u(x,t=3)$')\n",
        "plot(x,U[:,10],label='$u(x,t=10)$')\n",
        "plot(x,U[:,20],label='$u(x,t=20)$')\n",
        "plt.xlabel('$x$'); plt.ylabel('$u(x,t)$');\n",
        "plt.title(\"Evolución de la solución\")\n",
        "xlim([-0.01,1.01]),ylim([-0.01,1.2]),grid(),legend()\n",
        "show()"
      ]
    },
    {
      "cell_type": "markdown",
      "metadata": {
        "id": "rOuPnVsMPqBz"
      },
      "source": [
        "Y podemos ver esto en una gráfica en 3D."
      ]
    },
    {
      "cell_type": "code",
      "execution_count": null,
      "metadata": {
        "id": "AKObsCl8PqBz"
      },
      "outputs": [],
      "source": [
        "#%matplotlib notebook\n",
        "from mpl_toolkits.mplot3d import Axes3D\n",
        "\n",
        "fig = plt.figure(figsize=(12,10))\n",
        "ax = fig.add_subplot(111, projection=\"3d\")\n",
        "\n",
        "x = linspace(0,1.0,100)\n",
        "t = linspace(0,1.0,100)\n",
        "\n",
        "X,T = np.meshgrid(x,t)\n",
        "\n",
        "U = u_x_t(x,t)\n",
        "\n",
        "plt.xlabel('$t$'); plt.ylabel('$x$');\n",
        "plt.title(\"u(x,t)\")\n",
        "ax.plot_surface(X, T, U, cmap=\"inferno\"); #Otros colores:\"viridis\", \"inferno\", \"plasma\""
      ]
    },
    {
      "cell_type": "code",
      "execution_count": null,
      "metadata": {
        "id": "liktpq9rPqBz"
      },
      "outputs": [],
      "source": []
    }
  ],
  "metadata": {
    "kernelspec": {
      "display_name": "Python 3 (ipykernel)",
      "language": "python",
      "name": "python3"
    },
    "language_info": {
      "codemirror_mode": {
        "name": "ipython",
        "version": 3
      },
      "file_extension": ".py",
      "mimetype": "text/x-python",
      "name": "python",
      "nbconvert_exporter": "python",
      "pygments_lexer": "ipython3",
      "version": "3.7.3"
    },
    "colab": {
      "provenance": []
    }
  },
  "nbformat": 4,
  "nbformat_minor": 0
}
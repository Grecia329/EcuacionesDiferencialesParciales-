{
  "nbformat": 4,
  "nbformat_minor": 0,
  "metadata": {
    "colab": {
      "provenance": [],
      "authorship_tag": "ABX9TyM2xnG4ue9INdTAdUhThwXr",
      "include_colab_link": true
    },
    "kernelspec": {
      "name": "python3",
      "display_name": "Python 3"
    },
    "language_info": {
      "name": "python"
    }
  },
  "cells": [
    {
      "cell_type": "markdown",
      "metadata": {
        "id": "view-in-github",
        "colab_type": "text"
      },
      "source": [
        "<a href=\"https://colab.research.google.com/github/Grecia329/EcuacionesDiferencialesParciales-/blob/main/Formas_Can%C3%B3nicas.ipynb\" target=\"_parent\"><img src=\"https://colab.research.google.com/assets/colab-badge.svg\" alt=\"Open In Colab\"/></a>"
      ]
    },
    {
      "cell_type": "markdown",
      "source": [
        "# Formas Canónicas"
      ],
      "metadata": {
        "id": "uokea7kUeits"
      }
    },
    {
      "cell_type": "markdown",
      "source": [
        "Usar sympy para escribir un programa que: \\\\\n",
        "1) Calcule el indicador y decida que el tipo de una EDP dada. \\\\\n",
        "2) De la transformación transformación lineal para llevar a su forma canónica una ecuación hiperbólica (ver foto del pizarrón). \\\\\n",
        "3) Devuelva la EDP en su forma canónica."
      ],
      "metadata": {
        "id": "HiVem-kWenS9"
      }
    },
    {
      "cell_type": "markdown",
      "source": [
        "Considere:"
      ],
      "metadata": {
        "id": "0x8B_FvzikOT"
      }
    },
    {
      "cell_type": "markdown",
      "source": [
        "Ecuación Hiperbólica:\n",
        "$$\n",
        "\\xi=-(B+B\\sqrt{B^2-4AC})x+2Ay\\\\\n",
        "$$\n",
        "$$\n",
        "\\eta=-(B-B\\sqrt{B^2-4AC})x+2Ay\\\\\n",
        "$$\n",
        "Indicador:\n",
        "$$\n",
        "I=B^2-4AC\n",
        "$$\n",
        "Ejemplo:\n",
        "$$\n",
        "U_{xx}-3U_{xy}-10U_{yy}=0\n",
        "$$"
      ],
      "metadata": {
        "id": "RocjLHCcgACj"
      }
    },
    {
      "cell_type": "code",
      "source": [
        "from sympy import symbols, Function, Eq, diff, sqrt, simplify\n"
      ],
      "metadata": {
        "id": "c7kFLTY_fJZz"
      },
      "execution_count": 32,
      "outputs": []
    },
    {
      "cell_type": "code",
      "source": [
        "# Declarar variables\n",
        "x, y = symbols('x y')\n",
        "U = Function('U')"
      ],
      "metadata": {
        "id": "PHHm5NZRfLSn"
      },
      "execution_count": 33,
      "outputs": []
    },
    {
      "cell_type": "code",
      "source": [
        "# Derivadas parciales\n",
        "Uxx = diff(U(x, y), x, x)\n",
        "Uxy = diff(U(x, y), x, y)\n",
        "Uyy = diff(U(x, y), y, y)"
      ],
      "metadata": {
        "id": "ruT-4MCqfNdr"
      },
      "execution_count": 34,
      "outputs": []
    },
    {
      "cell_type": "code",
      "source": [
        "#Definir la ecuación\n",
        "eq = Eq(Uxx - 3*Uxy - 10*Uyy, 0)"
      ],
      "metadata": {
        "id": "UoEJhXDSfPuj"
      },
      "execution_count": 35,
      "outputs": []
    },
    {
      "cell_type": "code",
      "source": [
        "# Coeficientes principales: A Uxx + 2B Uxy + C Uyy\n",
        "A = 1\n",
        "B = -3 / 2 # Porque 2B = -3\n",
        "C = -10"
      ],
      "metadata": {
        "id": "xywsdiB6fTbr"
      },
      "execution_count": 36,
      "outputs": []
    },
    {
      "cell_type": "code",
      "source": [
        "# Indicador (discriminante)\n",
        "I = B**2 - 4*A*C"
      ],
      "metadata": {
        "id": "OiY9MeoWfVfU"
      },
      "execution_count": 37,
      "outputs": []
    },
    {
      "cell_type": "code",
      "source": [
        "# Clasificación de la ecuación\n",
        "if I > 0:\n",
        "    tipo = \"hiperbólica\"\n",
        "elif I == 0:\n",
        "    tipo = \"parabólica\"\n",
        "else:\n",
        "    tipo = \"elíptica\""
      ],
      "metadata": {
        "id": "UEsZOEIpfXYj"
      },
      "execution_count": 38,
      "outputs": []
    },
    {
      "cell_type": "code",
      "source": [
        "# Transformaciones lineales (en función de x y y)\n",
        "xi = simplify(- (B + B*sqrt(B**2 - 4*A*C)) * x + 2*A*y)\n",
        "eta = simplify(- (B - B*sqrt(B**2 - 4*A*C)) * x + 2*A*y)"
      ],
      "metadata": {
        "id": "qpwRf_Eufa5z"
      },
      "execution_count": 39,
      "outputs": []
    },
    {
      "cell_type": "code",
      "source": [
        "# Definimos ξ y η como nuevas variables simbólicas\n",
        "ξ, η = symbols('ξ η')\n",
        "U_xieta = Function('U')(ξ, η)"
      ],
      "metadata": {
        "id": "K0Ecf4-WfcxL"
      },
      "execution_count": 40,
      "outputs": []
    },
    {
      "cell_type": "code",
      "source": [
        "# Derivadas en la nueva base (forma canónica simbólica)\n",
        "U_ξη = diff(U_xieta, ξ, η)\n",
        "U_ξξ = diff(U_xieta, ξ, ξ)\n",
        "U_ηη = diff(U_xieta, η, η)"
      ],
      "metadata": {
        "id": "Vw5ZwBROfel0"
      },
      "execution_count": 41,
      "outputs": []
    },
    {
      "cell_type": "code",
      "source": [
        "# Mostrar resultados\n",
        "print(\" Ecuación original:\")\n",
        "print(eq)"
      ],
      "metadata": {
        "colab": {
          "base_uri": "https://localhost:8080/"
        },
        "id": "50wLsCCBfg4r",
        "outputId": "f8ab4792-39ba-47ba-8acf-7abe1c517360"
      },
      "execution_count": 44,
      "outputs": [
        {
          "output_type": "stream",
          "name": "stdout",
          "text": [
            " Ecuación original:\n",
            "Eq(Derivative(U(x, y), (x, 2)) - 10*Derivative(U(x, y), (y, 2)) - 3*Derivative(U(x, y), x, y), 0)\n"
          ]
        }
      ]
    },
    {
      "cell_type": "code",
      "source": [
        "print(\"\\n Indicador (I = B^2 - 4AC):\", I)\n",
        "print(\"Tipo de EDP:\", tipo)"
      ],
      "metadata": {
        "colab": {
          "base_uri": "https://localhost:8080/"
        },
        "id": "w3QOklkEfjZj",
        "outputId": "8f5e460f-47bb-41c4-a418-45e82137f50f"
      },
      "execution_count": 46,
      "outputs": [
        {
          "output_type": "stream",
          "name": "stdout",
          "text": [
            "\n",
            " Indicador (I = B^2 - 4AC): 42.25\n",
            "Tipo de EDP: hiperbólica\n"
          ]
        }
      ]
    },
    {
      "cell_type": "code",
      "source": [
        "print(\"\\n Transformaciones lineales:\")\n",
        "print(\"ξ =\", xi)\n",
        "print(\"η =\", eta)"
      ],
      "metadata": {
        "colab": {
          "base_uri": "https://localhost:8080/"
        },
        "id": "1Cx83A1WfuwL",
        "outputId": "3f945862-2f36-444a-c6a0-e09d09101e4c"
      },
      "execution_count": 47,
      "outputs": [
        {
          "output_type": "stream",
          "name": "stdout",
          "text": [
            "\n",
            " Transformaciones lineales:\n",
            "ξ = 11.25*x + 2*y\n",
            "η = -8.25*x + 2*y\n"
          ]
        }
      ]
    },
    {
      "cell_type": "code",
      "source": [
        "print(\"\\n Forma canónica esperada:\")\n",
        "if tipo == \"hiperbólica\":\n",
        "    print(\"U_ξη =\", U_ξη)\n",
        "    print(\"Forma canónica esperada: U_ξη = 0\")\n",
        "elif tipo == \"parabólica\":\n",
        "    print(\"U_ξξ =\", U_ξξ)\n",
        "    print(\"Forma canónica esperada: U_ξξ + U_ξ = 0\")\n",
        "elif tipo == \"elíptica\":\n",
        "    print(\"U_ξξ + U_ηη =\", U_ξξ + U_ηη)\n",
        "    print(\"Forma canónica esperada: U_ξξ + U_ηη = 0\")"
      ],
      "metadata": {
        "colab": {
          "base_uri": "https://localhost:8080/"
        },
        "id": "020cte_Jf5ej",
        "outputId": "9a2b99ab-eb9e-4d42-88e4-3361b9cc3b6b"
      },
      "execution_count": 49,
      "outputs": [
        {
          "output_type": "stream",
          "name": "stdout",
          "text": [
            "\n",
            " Forma canónica esperada:\n",
            "U_ξη = Derivative(U(ξ, η), η, ξ)\n",
            "Forma canónica esperada: U_ξη = 0\n"
          ]
        }
      ]
    }
  ]
}
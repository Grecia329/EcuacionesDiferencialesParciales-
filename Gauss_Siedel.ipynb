{
  "nbformat": 4,
  "nbformat_minor": 0,
  "metadata": {
    "colab": {
      "provenance": [],
      "authorship_tag": "ABX9TyMqFCivFSEAhM+FKAgD9Vsb",
      "include_colab_link": true
    },
    "kernelspec": {
      "name": "python3",
      "display_name": "Python 3"
    },
    "language_info": {
      "name": "python"
    }
  },
  "cells": [
    {
      "cell_type": "markdown",
      "metadata": {
        "id": "view-in-github",
        "colab_type": "text"
      },
      "source": [
        "<a href=\"https://colab.research.google.com/github/Grecia329/EcuacionesDiferencialesParciales-/blob/main/Gauss_Siedel.ipynb\" target=\"_parent\"><img src=\"https://colab.research.google.com/assets/colab-badge.svg\" alt=\"Open In Colab\"/></a>"
      ]
    },
    {
      "cell_type": "markdown",
      "source": [
        "# Método de Gauss-Siedel"
      ],
      "metadata": {
        "id": "g8PHfeN98RLg"
      }
    },
    {
      "cell_type": "markdown",
      "source": [
        "**Sistema a Resolver**:\n",
        "El sistema a resolver, corresponde a un sistema de diferencias finitas en una malla $2$x$2$:\n",
        "$$\n",
        "4U_{11}-U_{12}-U_{21}=0\n",
        "$$\n",
        "\n",
        "$$\n",
        "-U_{11}+4U_{12}-U_{22}=\\frac{2}{3}\n",
        "$$\n",
        "\n",
        "$$\n",
        "-U_{11}+4U_{21}-U_{22}=\\frac{8}{9}\n",
        "$$\n",
        "\n",
        "$$\n",
        "-U_{12}-U_{21}+4U_{22}=\\frac{14}{9}\n",
        "$$"
      ],
      "metadata": {
        "id": "VM7jcc3_9z7W"
      }
    },
    {
      "cell_type": "code",
      "source": [
        "# Resulta el Sistema:\n",
        "from IPython.display import display, Math\n",
        "\n",
        "display(Math(r\"\"\"\n",
        "A =\n",
        "\\begin{pmatrix}\n",
        "4 & -1 & -1 & 0 \\\\\n",
        "-1 & 4 & 0 & -1 \\\\\n",
        "-1 & 0 & 4 & -1 \\\\\n",
        "0 & -1 & -1 & 4\n",
        "\\end{pmatrix}\n",
        "\"\"\"))\n",
        "\n",
        "display(Math(r\"\"\"\n",
        "b =\n",
        "\\begin{pmatrix}\n",
        "0 \\\\\n",
        "\\frac{2}{3} \\\\\n",
        "\\frac{8}{9} \\\\\n",
        "\\frac{14}{9}\n",
        "\\end{pmatrix}\n",
        "\"\"\"))\n"
      ],
      "metadata": {
        "colab": {
          "base_uri": "https://localhost:8080/",
          "height": 180
        },
        "id": "LF6Dc3F2_elI",
        "outputId": "15c05af4-d575-47f5-a93a-2be0435b8dbf"
      },
      "execution_count": 14,
      "outputs": [
        {
          "output_type": "display_data",
          "data": {
            "text/plain": [
              "<IPython.core.display.Math object>"
            ],
            "text/latex": "$\\displaystyle \nA =\n\\begin{pmatrix}\n4 & -1 & -1 & 0 \\\\\n-1 & 4 & 0 & -1 \\\\\n-1 & 0 & 4 & -1 \\\\\n0 & -1 & -1 & 4\n\\end{pmatrix}\n$"
          },
          "metadata": {}
        },
        {
          "output_type": "display_data",
          "data": {
            "text/plain": [
              "<IPython.core.display.Math object>"
            ],
            "text/latex": "$\\displaystyle \nb =\n\\begin{pmatrix}\n0 \\\\\n\\frac{2}{3} \\\\\n\\frac{8}{9} \\\\\n\\frac{14}{9}\n\\end{pmatrix}\n$"
          },
          "metadata": {}
        }
      ]
    },
    {
      "cell_type": "markdown",
      "source": [
        "# Programa Documentado:"
      ],
      "metadata": {
        "id": "ZmZQTBk7_pTm"
      }
    },
    {
      "cell_type": "code",
      "source": [
        "# -*- coding: utf-8 -*-\n",
        "\"\"\"\n",
        "Gauss-Seidel para el sistema del Problemario (malla 2x2).\n",
        "Autor: Contreras Avila Grecia Paola\n",
        "\n",
        "Este script:\n",
        "  1) Implementa Gauss–Seidel de forma clara y comentada.\n",
        "  2) Usa como criterio de paro la norma-2 del residuo ||r_k||_2.\n",
        "  3) Imprime la solución aproximada, número de iteraciones y residuo final.\n",
        "  4) Genera una tabla con TODAS las iteraciones.\n",
        "\"\"\"\n",
        "\n",
        "import numpy as np\n",
        "import pandas as pd\n",
        "import matplotlib.pyplot as plt\n",
        "from typing import Tuple, List, Optional\n",
        "\n",
        "\n",
        "def gauss_seidel(A: np.ndarray,\n",
        "                 b: np.ndarray,\n",
        "                 x0: Optional[np.ndarray] = None,\n",
        "                 tol: float = 1e-10,\n",
        "                 max_iter: int = 1000) -> Tuple[np.ndarray, int, List[float]]:\n",
        "    \"\"\"\n",
        "    Resuelve el sistema A x = b mediante el método iterativo de Gauss–Seidel.\n",
        "\n",
        "    Parámetros\n",
        "    ----------\n",
        "    A : np.ndarray (n x n)\n",
        "        Matriz del sistema.\n",
        "    b : np.ndarray (n)\n",
        "        Vector de términos independientes.\n",
        "    x0 : np.ndarray (n), opcional\n",
        "        Aproximación inicial (por defecto vector cero).\n",
        "    tol : float\n",
        "        Tolerancia para ||b - A x||_2.\n",
        "    max_iter : int\n",
        "        Máximo de iteraciones.\n",
        "\n",
        "    Retorna\n",
        "    -------\n",
        "    x : np.ndarray\n",
        "        Aproximación final.\n",
        "    k : int\n",
        "        Número de iteraciones realizadas.\n",
        "    history : List[float]\n",
        "        Historia de normas del residuo.\n",
        "    \"\"\"\n",
        "    A = np.array(A, dtype=float)\n",
        "    b = np.array(b, dtype=float).reshape(-1)\n",
        "    n = A.shape[0]\n",
        "    x = np.zeros(n, dtype=float) if x0 is None else np.array(x0, dtype=float)\n",
        "\n",
        "    history: List[float] = []\n",
        "    r = b - A @ x\n",
        "    history.append(np.linalg.norm(r, ord=2))\n",
        "\n",
        "    for k in range(1, max_iter + 1):\n",
        "        for i in range(n):\n",
        "            sigma = 0.0\n",
        "            for j in range(n):\n",
        "                if j != i:\n",
        "                    sigma += A[i, j] * x[j]\n",
        "            x[i] = (b[i] - sigma) / A[i, i]\n",
        "\n",
        "        r = b - A @ x\n",
        "        res = np.linalg.norm(r, ord=2)\n",
        "        history.append(res)\n",
        "        if res < tol:\n",
        "            return x, k, history\n",
        "\n",
        "    return x, max_iter, history\n",
        "\n",
        "\n",
        "def main() -> None:\n",
        "    # Sistema de la tarea\n",
        "    A = np.array([\n",
        "        [ 4, -1, -1,  0],\n",
        "        [-1,  4,  0, -1],\n",
        "        [-1,  0,  4, -1],\n",
        "        [ 0, -1, -1,  4]\n",
        "    ], dtype=float)\n",
        "    b = np.array([0, 2/3, 8/9, 14/9], dtype=float)\n",
        "\n",
        "    # Ejecutar Gauss–Seidel\n",
        "    x_gs, iters, hist = gauss_seidel(A, b, tol=1e-12, max_iter=500)\n",
        "\n",
        "    # Mostrar tabla completa de iteraciones\n",
        "    df = pd.DataFrame({\"Iteración\": range(len(hist)), \"||r_k||_2\": hist})\n",
        "    print(\"=== Tabla de iteraciones (norma del residuo) ===\")\n",
        "    print(df.to_string(index=False))\n",
        "\n",
        "    # Imprimir solución final\n",
        "    print(\"\\n=== Resultado final ===\")\n",
        "    print(f\"Solución por Gauss–Seidel: {x_gs}\")\n",
        "    print(f\"Iteraciones realizadas: {iters}\")\n",
        "    print(f\"||r_k||_2 final: {hist[-1]:.3e}\")\n",
        "\n",
        "    # Comparar con solución exacta\n",
        "    x_exact = np.linalg.solve(A, b)\n",
        "    print(\"\\nSolución exacta (numpy.linalg.solve):\")\n",
        "    print(x_exact)\n",
        "\n",
        "if __name__ == \"__main__\":\n",
        "    main()\n"
      ],
      "metadata": {
        "colab": {
          "base_uri": "https://localhost:8080/"
        },
        "id": "uaEVYr9LAL6v",
        "outputId": "77cb22bf-d7dd-41a0-d6da-6be8813aa776"
      },
      "execution_count": 17,
      "outputs": [
        {
          "output_type": "stream",
          "name": "stdout",
          "text": [
            "=== Tabla de iteraciones (norma del residuo) ===\n",
            " Iteración    ||r_k||_2\n",
            "         0 1.911628e+00\n",
            "         1 7.898371e-01\n",
            "         2 3.093592e-01\n",
            "         3 7.733980e-02\n",
            "         4 1.933495e-02\n",
            "         5 4.833738e-03\n",
            "         6 1.208434e-03\n",
            "         7 3.021086e-04\n",
            "         8 7.552715e-05\n",
            "         9 1.888179e-05\n",
            "        10 4.720447e-06\n",
            "        11 1.180112e-06\n",
            "        12 2.950279e-07\n",
            "        13 7.375698e-08\n",
            "        14 1.843925e-08\n",
            "        15 4.609811e-09\n",
            "        16 1.152453e-09\n",
            "        17 2.881133e-10\n",
            "        18 7.202823e-11\n",
            "        19 1.800700e-11\n",
            "        20 4.501821e-12\n",
            "        21 1.125364e-12\n",
            "        22 2.812823e-13\n",
            "\n",
            "=== Resultado final ===\n",
            "Solución por Gauss–Seidel: [0.19444444 0.36111111 0.41666667 0.58333333]\n",
            "Iteraciones realizadas: 22\n",
            "||r_k||_2 final: 2.813e-13\n",
            "\n",
            "Solución exacta (numpy.linalg.solve):\n",
            "[0.19444444 0.36111111 0.41666667 0.58333333]\n"
          ]
        }
      ]
    }
  ]
}